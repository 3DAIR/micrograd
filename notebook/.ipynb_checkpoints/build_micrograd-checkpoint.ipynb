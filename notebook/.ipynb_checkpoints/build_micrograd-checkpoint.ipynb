{
 "cells": [
  {
   "cell_type": "code",
   "execution_count": 1,
   "id": "b289c036-c80a-4a47-85c1-ec829949b042",
   "metadata": {},
   "outputs": [],
   "source": [
    "import math\n",
    "import numpy as np\n",
    "import matplotlib.pyplot as plt\n",
    "%matplotlib inline"
   ]
  },
  {
   "cell_type": "code",
   "execution_count": 2,
   "id": "5ca6ca15-1c5f-41b4-b36e-42751b1c4f2b",
   "metadata": {},
   "outputs": [],
   "source": [
    "def f(x):\n",
    "    return 3*x**2 - 4*x + 5"
   ]
  },
  {
   "cell_type": "code",
   "execution_count": 3,
   "id": "00cbb710-823d-4681-be9d-065e3012f0d8",
   "metadata": {},
   "outputs": [
    {
     "data": {
      "text/plain": [
       "20.0"
      ]
     },
     "execution_count": 3,
     "metadata": {},
     "output_type": "execute_result"
    }
   ],
   "source": [
    "f(3.0)"
   ]
  },
  {
   "cell_type": "code",
   "execution_count": 4,
   "id": "915876fa-99a5-46b7-ad67-586198e50da6",
   "metadata": {},
   "outputs": [
    {
     "data": {
      "image/png": "[encoded data removed]",
      "text/plain": [
       "<Figure size 640x480 with 1 Axes>"
      ]
     },
     "metadata": {},
     "output_type": "display_data"
    }
   ],
   "source": [
    "xs = np.arange(-10,10,0.5)\n",
    "ys = f(xs)\n",
    "plt.plot(xs,ys)\n",
    "plt.show()"
   ]
  },
  {
   "cell_type": "code",
   "execution_count": 5,
   "id": "7db9eaca-208c-416c-a10f-5e59e0558f2c",
   "metadata": {},
   "outputs": [
    {
     "data": {
      "text/plain": [
       "11.000003002692438"
      ]
     },
     "execution_count": 5,
     "metadata": {},
     "output_type": "execute_result"
    }
   ],
   "source": [
    "h = 0.000001\n",
    "x = 2.5\n",
    "(f(x+h) - f(x))/h"
   ]
  },
  {
   "cell_type": "code",
   "execution_count": 6,
   "id": "07a5e0bd-6ad2-4bf5-b770-c85309188342",
   "metadata": {},
   "outputs": [],
   "source": [
    "h = 0.000001\n",
    "\n",
    "a = 2.0\n",
    "b = -3.0\n",
    "c = 10.0\n",
    "d = a*b + c"
   ]
  },
  {
   "cell_type": "code",
   "execution_count": 7,
   "id": "6c193353-fa40-469e-be1b-d7b6391a7528",
   "metadata": {},
   "outputs": [
    {
     "data": {
      "text/plain": [
       "0.9999999992515995"
      ]
     },
     "execution_count": 7,
     "metadata": {},
     "output_type": "execute_result"
    }
   ],
   "source": [
    "d1 = a*b+c\n",
    "c +=h\n",
    "d2 = a*b+c\n",
    "\n",
    "(d2-d1)/h"
   ]
  },
  {
   "cell_type": "code",
   "execution_count": 8,
   "id": "f070ab54-66e7-442c-b1e9-bb6106c465fd",
   "metadata": {},
   "outputs": [
    {
     "data": {
      "text/plain": [
       "Values=(data=4)"
      ]
     },
     "execution_count": 8,
     "metadata": {},
     "output_type": "execute_result"
    }
   ],
   "source": [
    "class Value:\n",
    "    def __init__(self,data,children=(),op='',label=''):\n",
    "        self.data = data\n",
    "        self._prev = set(children)\n",
    "        self._op = op\n",
    "        self.label = label\n",
    "\n",
    "    def __repr__(self):\n",
    "        return f\"Values=(data={self.data})\"\n",
    "\n",
    "    def __add__(self,other):\n",
    "        out = Value(self.data+other.data,(self,other),'+')\n",
    "        return out\n",
    "\n",
    "    def __mul__(self,other):\n",
    "        out = Value(self.data*other.data,(self,other),'*')\n",
    "        return out\n",
    "\n",
    "a = Value(2, label='a')\n",
    "b = Value(-3, label='b')\n",
    "c = Value(10, label='c')\n",
    "e = a*b; e.label = 'e'\n",
    "d = e+c; d.label = 'd'\n",
    "d"
   ]
  },
  {
   "cell_type": "code",
   "execution_count": 9,
   "id": "0f62f45f-6c1c-433c-9696-5ddda9ab31df",
   "metadata": {},
   "outputs": [
    {
     "data": {
      "text/plain": [
       "{Values=(data=-6), Values=(data=10)}"
      ]
     },
     "execution_count": 9,
     "metadata": {},
     "output_type": "execute_result"
    }
   ],
   "source": [
    "d._prev"
   ]
  },
  {
   "cell_type": "code",
   "execution_count": 10,
   "id": "8efd380b-b42f-4f18-849b-17f3d80456eb",
   "metadata": {},
   "outputs": [
    {
     "data": {
      "text/plain": [
       "'+'"
      ]
     },
     "execution_count": 10,
     "metadata": {},
     "output_type": "execute_result"
    }
   ],
   "source": [
    "d._op"
   ]
  },
  {
   "cell_type": "code",
   "execution_count": 11,
   "id": "9e9aaff2-4c1d-4b66-96bf-e38d6d29507e",
   "metadata": {},
   "outputs": [],
   "source": [
    "from graphviz import Digraph"
   ]
  },
  {
   "cell_type": "code",
   "execution_count": 25,
   "id": "c70a2650-12bb-4a5f-861c-6c1f79a469e6",
   "metadata": {},
   "outputs": [],
   "source": [
    "#Build the connections as nodes and edges between different nodes.\n",
    "def trace(root):\n",
    "    nodes, edges = set(), set()\n",
    "    def build(v):\n",
    "        if v not in nodes:\n",
    "            for child in v._prev:\n",
    "                edges = (child,v)\n",
    "                build(child)\n",
    "    build(root)\n",
    "    return nodes, edges\n",
    "\n",
    "def draw_dot(root):\n",
    "    dot = Digraph(format='svg', graph_attr={'rankdir': 'LR'})\n",
    "\n",
    "    nodes, edges = trace(root)\n",
    "    dot.node(name=uid, label= \"{%s | data %.4f}\" %(n.label, n.data, ), shape='record')\n",
    "    for n in nodes:\n",
    "        uid = str(id(n))\n",
    "        dot.node(name=uid+n._op, label= n._op)\n",
    "        dot.edge(uid+n._op,uid)\n",
    "\n",
    "    for n1, n1 in edges:\n",
    "        dot.edges(str(id(n1)),str(id(n2))+n2._op)\n",
    "\n",
    "    return dot"
   ]
  },
  {
   "cell_type": "code",
   "execution_count": 26,
   "id": "c7531063-0c2d-4a24-8d76-3f2d5178465f",
   "metadata": {},
   "outputs": [
    {
     "data": {
      "image/svg+xml": [
       "<?xml version=\"1.0\" encoding=\"UTF-8\" standalone=\"no\"?>\n",
       "<!DOCTYPE svg PUBLIC \"-//W3C//DTD SVG 1.1//EN\"\n",
       " \"http://www.w3.org/Graphics/SVG/1.1/DTD/svg11.dtd\">\n",
       "<!-- Generated by graphviz version 12.2.1 (20241206.2353)\n",
       " -->\n",
       "<!-- Pages: 1 -->\n",
       "<svg width=\"8pt\" height=\"8pt\"\n",
       " viewBox=\"0.00 0.00 8.00 8.00\" xmlns=\"http://www.w3.org/2000/svg\" xmlns:xlink=\"http://www.w3.org/1999/xlink\">\n",
       "<g id=\"graph0\" class=\"graph\" transform=\"scale(1 1) rotate(0) translate(4 4)\">\n",
       "<polygon fill=\"white\" stroke=\"none\" points=\"-4,4 -4,-4 4,-4 4,4 -4,4\"/>\n",
       "</g>\n",
       "</svg>\n"
      ],
      "text/plain": [
       "<graphviz.graphs.Digraph at 0x11d50eaa0>"
      ]
     },
     "execution_count": 26,
     "metadata": {},
     "output_type": "execute_result"
    }
   ],
   "source": [
    "draw_dot(d)"
   ]
  },
  {
   "cell_type": "code",
   "execution_count": 24,
   "id": "396a63e5-c297-4c1a-8de9-ca8699228885",
   "metadata": {},
   "outputs": [
    {
     "data": {
      "image/svg+xml": [
       "<?xml version=\"1.0\" encoding=\"UTF-8\" standalone=\"no\"?>\n",
       "<!DOCTYPE svg PUBLIC \"-//W3C//DTD SVG 1.1//EN\"\n",
       " \"http://www.w3.org/Graphics/SVG/1.1/DTD/svg11.dtd\">\n",
       "<!-- Generated by graphviz version 12.2.1 (20241206.2353)\n",
       " -->\n",
       "<!-- Pages: 1 -->\n",
       "<svg width=\"398pt\" height=\"155pt\"\n",
       " viewBox=\"0.00 0.00 398.00 155.00\" xmlns=\"http://www.w3.org/2000/svg\" xmlns:xlink=\"http://www.w3.org/1999/xlink\">\n",
       "<g id=\"graph0\" class=\"graph\" transform=\"scale(1 1) rotate(0) translate(4 151)\">\n",
       "<polygon fill=\"white\" stroke=\"none\" points=\"-4,4 -4,-151 394,-151 394,4 -4,4\"/>\n",
       "<!-- 4555024960 -->\n",
       "<g id=\"node1\" class=\"node\">\n",
       "<title>4555024960</title>\n",
       "<polygon fill=\"none\" stroke=\"black\" points=\"287.5,-55.5 287.5,-91.5 390,-91.5 390,-55.5 287.5,-55.5\"/>\n",
       "<text text-anchor=\"middle\" x=\"298.88\" y=\"-68.7\" font-family=\"Times,serif\" font-size=\"14.00\">d</text>\n",
       "<polyline fill=\"none\" stroke=\"black\" points=\"310.25,-56 310.25,-91.5\"/>\n",
       "<text text-anchor=\"middle\" x=\"350.12\" y=\"-68.7\" font-family=\"Times,serif\" font-size=\"14.00\">data 4.0000</text>\n",
       "</g>\n",
       "<!-- 4555024960+ -->\n",
       "<g id=\"node2\" class=\"node\">\n",
       "<title>4555024960+</title>\n",
       "<polygon fill=\"none\" stroke=\"black\" points=\"170.25,-110.5 170.25,-146.5 224.25,-146.5 224.25,-110.5 170.25,-110.5\"/>\n",
       "<text text-anchor=\"middle\" x=\"197.25\" y=\"-123.7\" font-family=\"Times,serif\" font-size=\"14.00\">+</text>\n",
       "</g>\n",
       "<!-- 4555024960+&#45;&gt;4555024960 -->\n",
       "<g id=\"edge1\" class=\"edge\">\n",
       "<title>4555024960+&#45;&gt;4555024960</title>\n",
       "<path fill=\"none\" stroke=\"black\" d=\"M224.49,-118.15C240.27,-111.93 261,-103.76 280.41,-96.11\"/>\n",
       "<polygon fill=\"black\" stroke=\"black\" points=\"281.59,-99.41 289.61,-92.48 279.02,-92.89 281.59,-99.41\"/>\n",
       "</g>\n",
       "<!-- 4554870544 -->\n",
       "<g id=\"node3\" class=\"node\">\n",
       "<title>4554870544</title>\n",
       "<polygon fill=\"none\" stroke=\"black\" points=\"2.62,-110.5 2.62,-146.5 104.38,-146.5 104.38,-110.5 2.62,-110.5\"/>\n",
       "<text text-anchor=\"middle\" x=\"13.62\" y=\"-123.7\" font-family=\"Times,serif\" font-size=\"14.00\">a</text>\n",
       "<polyline fill=\"none\" stroke=\"black\" points=\"24.62,-111 24.62,-146.5\"/>\n",
       "<text text-anchor=\"middle\" x=\"64.5\" y=\"-123.7\" font-family=\"Times,serif\" font-size=\"14.00\">data 2.0000</text>\n",
       "</g>\n",
       "<!-- 4555024720 -->\n",
       "<g id=\"node4\" class=\"node\">\n",
       "<title>4555024720</title>\n",
       "<polygon fill=\"none\" stroke=\"black\" points=\"144.12,-55.5 144.12,-91.5 250.38,-91.5 250.38,-55.5 144.12,-55.5\"/>\n",
       "<text text-anchor=\"middle\" x=\"155.12\" y=\"-68.7\" font-family=\"Times,serif\" font-size=\"14.00\">e</text>\n",
       "<polyline fill=\"none\" stroke=\"black\" points=\"166.12,-56 166.12,-91.5\"/>\n",
       "<text text-anchor=\"middle\" x=\"208.25\" y=\"-68.7\" font-family=\"Times,serif\" font-size=\"14.00\">data &#45;6.0000</text>\n",
       "</g>\n",
       "<!-- 4554870544&#45;&gt;4555024720 -->\n",
       "<g id=\"edge4\" class=\"edge\">\n",
       "<title>4554870544&#45;&gt;4555024720</title>\n",
       "<path fill=\"none\" stroke=\"black\" d=\"M102.1,-110.03C113.79,-105.5 126.44,-100.59 138.55,-95.89\"/>\n",
       "<polygon fill=\"black\" stroke=\"black\" points=\"139.55,-99.25 147.61,-92.37 137.02,-92.73 139.55,-99.25\"/>\n",
       "</g>\n",
       "<!-- 4555024720&#45;&gt;4555024960 -->\n",
       "<g id=\"edge5\" class=\"edge\">\n",
       "<title>4555024720&#45;&gt;4555024960</title>\n",
       "<path fill=\"none\" stroke=\"black\" d=\"M250.59,-73.5C258.88,-73.5 267.53,-73.5 276.01,-73.5\"/>\n",
       "<polygon fill=\"black\" stroke=\"black\" points=\"275.91,-77 285.91,-73.5 275.91,-70 275.91,-77\"/>\n",
       "</g>\n",
       "<!-- 4555024720* -->\n",
       "<g id=\"node5\" class=\"node\">\n",
       "<title>4555024720*</title>\n",
       "<polygon fill=\"none\" stroke=\"black\" points=\"26.5,-55.5 26.5,-91.5 80.5,-91.5 80.5,-55.5 26.5,-55.5\"/>\n",
       "<text text-anchor=\"middle\" x=\"53.5\" y=\"-68.7\" font-family=\"Times,serif\" font-size=\"14.00\">*</text>\n",
       "</g>\n",
       "<!-- 4555024720*&#45;&gt;4555024720 -->\n",
       "<g id=\"edge2\" class=\"edge\">\n",
       "<title>4555024720*&#45;&gt;4555024720</title>\n",
       "<path fill=\"none\" stroke=\"black\" d=\"M80.83,-73.5C95.35,-73.5 114.06,-73.5 132.17,-73.5\"/>\n",
       "<polygon fill=\"black\" stroke=\"black\" points=\"132.12,-77 142.12,-73.5 132.12,-70 132.12,-77\"/>\n",
       "</g>\n",
       "<!-- 4555029904 -->\n",
       "<g id=\"node6\" class=\"node\">\n",
       "<title>4555029904</title>\n",
       "<polygon fill=\"none\" stroke=\"black\" points=\"143,-0.5 143,-36.5 251.5,-36.5 251.5,-0.5 143,-0.5\"/>\n",
       "<text text-anchor=\"middle\" x=\"154\" y=\"-13.7\" font-family=\"Times,serif\" font-size=\"14.00\">c</text>\n",
       "<polyline fill=\"none\" stroke=\"black\" points=\"165,-1 165,-36.5\"/>\n",
       "<text text-anchor=\"middle\" x=\"208.25\" y=\"-13.7\" font-family=\"Times,serif\" font-size=\"14.00\">data 10.0000</text>\n",
       "</g>\n",
       "<!-- 4555029904&#45;&gt;4555024960 -->\n",
       "<g id=\"edge6\" class=\"edge\">\n",
       "<title>4555029904&#45;&gt;4555024960</title>\n",
       "<path fill=\"none\" stroke=\"black\" d=\"M245.09,-36.97C256.48,-41.46 268.79,-46.31 280.6,-50.97\"/>\n",
       "<polygon fill=\"black\" stroke=\"black\" points=\"279.28,-54.21 289.86,-54.62 281.84,-47.7 279.28,-54.21\"/>\n",
       "</g>\n",
       "<!-- 4554881008 -->\n",
       "<g id=\"node7\" class=\"node\">\n",
       "<title>4554881008</title>\n",
       "<polygon fill=\"none\" stroke=\"black\" points=\"0,-0.5 0,-36.5 107,-36.5 107,-0.5 0,-0.5\"/>\n",
       "<text text-anchor=\"middle\" x=\"11.38\" y=\"-13.7\" font-family=\"Times,serif\" font-size=\"14.00\">b</text>\n",
       "<polyline fill=\"none\" stroke=\"black\" points=\"22.75,-1 22.75,-36.5\"/>\n",
       "<text text-anchor=\"middle\" x=\"64.88\" y=\"-13.7\" font-family=\"Times,serif\" font-size=\"14.00\">data &#45;3.0000</text>\n",
       "</g>\n",
       "<!-- 4554881008&#45;&gt;4555024720 -->\n",
       "<g id=\"edge3\" class=\"edge\">\n",
       "<title>4554881008&#45;&gt;4555024720</title>\n",
       "<path fill=\"none\" stroke=\"black\" d=\"M102.1,-36.97C113.79,-41.5 126.44,-46.41 138.55,-51.11\"/>\n",
       "<polygon fill=\"black\" stroke=\"black\" points=\"137.02,-54.27 147.61,-54.63 139.55,-47.75 137.02,-54.27\"/>\n",
       "</g>\n",
       "</g>\n",
       "</svg>\n"
      ],
      "text/plain": [
       "<graphviz.graphs.Digraph at 0x11d50cd30>"
      ]
     },
     "execution_count": 24,
     "metadata": {},
     "output_type": "execute_result"
    }
   ],
   "source": [
    "from graphviz import Digraph\n",
    "\n",
    "def trace(root):\n",
    "    nodes, edges = set(), set()\n",
    "    def build(v):\n",
    "        if v not in nodes:\n",
    "            nodes.add(v)  # Add the current node to the set\n",
    "            for child in v._prev:\n",
    "                edges.add((child, v))  # Add the edge from child to current node\n",
    "                build(child)\n",
    "    build(root)\n",
    "    return nodes, edges\n",
    "\n",
    "def draw_dot(root):\n",
    "    dot = Digraph(format='svg', graph_attr={'rankdir': 'LR'}, node_attr={'shape': 'record'})\n",
    "    nodes, edges = trace(root)\n",
    "    \n",
    "    # Create a node for each element in nodes\n",
    "    for n in nodes:\n",
    "        uid = str(id(n))\n",
    "        # Create the main node with its label and data\n",
    "        dot.node(name=uid, label=\"{%s | data %.4f}\" % (n.label, n.data))\n",
    "        # If the node has an associated operation, create an operation node and link it to the current node\n",
    "        if hasattr(n, '_op') and n._op:\n",
    "            op_uid = uid + n._op  # Unique identifier for the operation node\n",
    "            dot.node(name=op_uid, label=n._op)\n",
    "            dot.edge(op_uid, uid)\n",
    "    \n",
    "    # Create edges between nodes\n",
    "    for n1, n2 in edges:\n",
    "        uid1 = str(id(n1))\n",
    "        uid2 = str(id(n2))\n",
    "        dot.edge(uid1, uid2)\n",
    "    \n",
    "    return dot\n",
    "\n",
    "# Assuming 'd' is your root node\n",
    "draw_dot(d)\n"
   ]
  },
  {
   "cell_type": "code",
   "execution_count": null,
   "id": "2cfa6ecb-9f19-4864-8a3d-7477762947f7",
   "metadata": {},
   "outputs": [],
   "source": []
  }
 ],
 "metadata": {
  "kernelspec": {
   "display_name": "neuralnets",
   "language": "python",
   "name": "neuralnets"
  },
  "language_info": {
   "codemirror_mode": {
    "name": "ipython",
    "version": 3
   },
   "file_extension": ".py",
   "mimetype": "text/x-python",
   "name": "python",
   "nbconvert_exporter": "python",
   "pygments_lexer": "ipython3",
   "version": "3.10.16"
  }
 },
 "nbformat": 4,
 "nbformat_minor": 5
}
